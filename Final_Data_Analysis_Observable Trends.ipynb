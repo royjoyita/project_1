{
 "cells": [
  {
   "attachments": {},
   "cell_type": "markdown",
   "metadata": {},
   "source": [
    "## Final_Data_Analysis_Trends:\n",
    "* Graph for ‘Global year-wise probability of Death (%)’ shows that the probability of dying (%) over the countries between 2005-2015 is showing a decline, which is correlated to decrease in tobacco smoking and alcohol consumption.\n",
    "* The graph for Probability of Death (%) vs. Healthy Life Expectancy (years) depicts a negative correlation between them. This helps make a prediction that as the probability of dying with certain diseases is increasing, the Healthy Life Expectancy (years) is going down.\n",
    "* HALE (Healthy Life Expectancy) (in years) is going up around the world.\n",
    "* For USA, the female Healthy Life Expectancy (years) was higher than that for male.\n",
    "* Some of the datasets had limitations, such as they contained the clustered data that was not very useful to make predictions based on them. Also, data in some of the datasets did not correlate well with the indicators (parameters) being analyzed."
   ]
  },
  {
   "cell_type": "code",
   "execution_count": null,
   "metadata": {},
   "outputs": [],
   "source": []
  }
 ],
 "metadata": {
  "kernelspec": {
   "display_name": "Python 3",
   "language": "python",
   "name": "python3"
  },
  "language_info": {
   "codemirror_mode": {
    "name": "ipython",
    "version": 3
   },
   "file_extension": ".py",
   "mimetype": "text/x-python",
   "name": "python",
   "nbconvert_exporter": "python",
   "pygments_lexer": "ipython3",
   "version": "3.8.5"
  }
 },
 "nbformat": 4,
 "nbformat_minor": 4
}

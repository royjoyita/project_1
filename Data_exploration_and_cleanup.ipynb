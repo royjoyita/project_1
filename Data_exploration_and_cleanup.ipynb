{
 "cells": [
  {
   "cell_type": "markdown",
   "metadata": {},
   "source": [
    "## Data Sources: \n",
    "\n",
    "* We used following website to access data sets to use for our study.\n",
    "\n",
    "https://www.kaggle.com/\n",
    "\n",
    "* We found the following data sets useful to our topic of study and decided to explore them to come up with a link between them to make the story.\n",
    "\n",
    "‘World Health Statistics 2020 | Complete | Geo-Analysis’\n",
    "\n",
    "* Then, we shortlisted the following data sets and started working on them. \n",
    "\n",
    "### CSV files:\n",
    "    \n",
    "    * 30-70cancerChdEtc.csv\n",
    "    * HALElifeExpectancyAtBirth.csv\n",
    "    * alcoholSubstanceAbuse.csv\n",
    "    * tobaccoAge15.csv\n",
    "    * HALeWHOregionLifeExpectancyAtBirth.csv\n",
    "    \n",
    "## Data Cleaning:\n",
    "\n",
    "* All data sets had a few common values, such as Country, Period (Year), and Gender. Other sets had other indicators each, along with the common values. The individual indicators were Probability of Dying (%), Tobacco use (per person per year), and Alcohol consumption (Liters of pure alcohol per person per year) in present in different sets. But we needed to make the comparisons, so we decided to connect the tobacco use and alcohol consumption with the probability of dying (%) over the years for all countries. \n",
    "\n",
    "\n",
    "* The data sets did not need much cleaning, so we created the dataframes for all of them. Then we needed to merge them one at a time. (e. g. merge Probability of Dying dataframe with Tobacco Use dataframe, then Probability of Dying with Alcohol Consumption dataframe and so on.) Merging on ‘Country’, merging on ‘Period’, and sorting the indexes were some of the steps we followed to get the data ready for plotting. \n",
    "\n",
    "\n",
    "* Using Pandas libraries in Python was helpful. These include-\n",
    "\n",
    "\n",
    "    * merge on “….”\n",
    "    * groupby()\n",
    "    * sort_values()\n",
    "    * set_index()\n",
    "\n"
   ]
  },
  {
   "cell_type": "code",
   "execution_count": null,
   "metadata": {},
   "outputs": [],
   "source": []
  }
 ],
 "metadata": {
  "kernelspec": {
   "display_name": "Python 3",
   "language": "python",
   "name": "python3"
  },
  "language_info": {
   "codemirror_mode": {
    "name": "ipython",
    "version": 3
   },
   "file_extension": ".py",
   "mimetype": "text/x-python",
   "name": "python",
   "nbconvert_exporter": "python",
   "pygments_lexer": "ipython3",
   "version": "3.8.5"
  }
 },
 "nbformat": 4,
 "nbformat_minor": 4
}
